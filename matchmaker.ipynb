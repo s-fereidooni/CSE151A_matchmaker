{
  "nbformat": 4,
  "nbformat_minor": 0,
  "metadata": {
    "colab": {
      "provenance": [],
      "authorship_tag": "ABX9TyOLIoF2ecWzmVTr3BCZBHQl",
      "include_colab_link": true
    },
    "kernelspec": {
      "name": "python3",
      "display_name": "Python 3"
    },
    "language_info": {
      "name": "python"
    }
  },
  "cells": [
    {
      "cell_type": "markdown",
      "metadata": {
        "id": "view-in-github",
        "colab_type": "text"
      },
      "source": [
        "<a href=\"https://colab.research.google.com/github/s-fereidooni/CSE151A_matchmaker/blob/main/matchmaker.ipynb\" target=\"_parent\"><img src=\"https://colab.research.google.com/assets/colab-badge.svg\" alt=\"Open In Colab\"/></a>"
      ]
    },
    {
      "cell_type": "markdown",
      "source": [
        "#Milestone 1: Project Planning\n",
        "\n",
        "**Abstract Link:** https://docs.google.com/document/d/19WeL7dWidgSilRRCblLaiIJ-TbKE2ilU7M9wfHz2f3U/edit?usp=sharing\n",
        "\n",
        "**Dataset:** https://www.kaggle.com/datasets/ulrikthygepedersen/speed-dating/data"
      ],
      "metadata": {
        "id": "jXsyBaD08KAu"
      }
    },
    {
      "cell_type": "markdown",
      "source": [
        "#Milestone 2: Data Preprocessing\n",
        "\n",
        "In this assignment you will need to:\n",
        "- Create a GitHub ID\n",
        "- Create a GitHub Repository (Public or Private it is up to you. In the end it will have to be Public)\n",
        "- Perform the data exploration step (i.e. evaluate your data, # of observations, details about your data distributions, scales, missing data, column descriptions) Note: For image data you can still describe your data by the number of classes, # of images, plot example classes of the image, size of images, are sizes uniform? Do they need to be cropped? normalized? etc.\n",
        "Plot your data. For tabular data, you will need to run scatters, for image data, you will need to plot your example classes.\n",
        "- How will you preprocess your data? You should explain this in your readme.md file and link your jupyter notebook to it. Your jupyter notebook should be uploaded to your repo.\n",
        "\n",
        "\n",
        "Jupyter Notebook data download and environment setup requirements:\n",
        "              !wget !unzip like functions as well as !pip install functions for non standard libraries not available in colab are required to be in the top section of your jupyter lab notebook. Or having the data on GitHub (you will need the academic license for GitHub to do this)\n",
        "\n",
        "**Note:** You will still be able to of course edit your GitHub repo for the data exploration part for your final submission, but we will grade this part of your submission as if it were finalized for milestone2 given the deadline! Only commits before the deadline will be used to evaluate your submission. You are expected to finalize the data exploration by Sunday of next week.\n"
      ],
      "metadata": {
        "id": "Qm7CErGa8G9i"
      }
    },
    {
      "cell_type": "code",
      "execution_count": null,
      "metadata": {
        "id": "vIMsOnT96SGH"
      },
      "outputs": [],
      "source": []
    }
  ]
}